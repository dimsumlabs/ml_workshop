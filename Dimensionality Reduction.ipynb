{
 "metadata": {
  "name": ""
 },
 "nbformat": 3,
 "nbformat_minor": 0,
 "worksheets": [
  {
   "cells": [
    {
     "cell_type": "markdown",
     "metadata": {},
     "source": [
      "WORK IN PROGRESS!\n",
      "\n",
      "The covariance matrix $\\Sigma$ is singular when the number of features $d$ exceeds the number of samples $n$. For that (or some other) reason one often wants to perform dimensionality reduction and keep at most $n$ features. The question is then, \"which dimensions do we want to keep?\"\n",
      "\n",
      "Principal Component Analysis (PCA) is an unsupervised dimensionality reduction method that projects onto a space such that the maximum variance for a given number of dimensions is retained.\n",
      "\n",
      "Linear Discriminant Analysis (LDA) is a supervised dimensionality reduction method that projects onto a space such that interclass variance is maximized while intraclass variance in minimized."
     ]
    },
    {
     "cell_type": "markdown",
     "metadata": {},
     "source": [
      "First, let's load some data and labels."
     ]
    },
    {
     "cell_type": "code",
     "collapsed": true,
     "input": [
      "X = loadtxt('data/pie_train_data.txt', delimiter=',')\n",
      "y = loadtxt('data/pie_train_label.txt', dtype=int)"
     ],
     "language": "python",
     "metadata": {},
     "outputs": []
    },
    {
     "cell_type": "markdown",
     "metadata": {},
     "source": [
      "Load the PCA and LDA module."
     ]
    },
    {
     "cell_type": "code",
     "collapsed": false,
     "input": [
      "from sklearn.decomposition import PCA\n",
      "from sklearn.lda import LDA"
     ],
     "language": "python",
     "metadata": {},
     "outputs": []
    },
    {
     "cell_type": "markdown",
     "metadata": {},
     "source": [
      "Create an instance of the PCA class."
     ]
    },
    {
     "cell_type": "code",
     "collapsed": false,
     "input": [
      "pca = PCA(n_components=2)"
     ],
     "language": "python",
     "metadata": {},
     "outputs": []
    },
    {
     "cell_type": "markdown",
     "metadata": {},
     "source": [
      "Fit the PCA instance with the data."
     ]
    },
    {
     "cell_type": "code",
     "collapsed": false,
     "input": [
      "pca.fit(X)"
     ],
     "language": "python",
     "metadata": {},
     "outputs": []
    },
    {
     "cell_type": "markdown",
     "metadata": {},
     "source": [
      "Transform the data with the fitted PCA instance."
     ]
    },
    {
     "cell_type": "code",
     "collapsed": false,
     "input": [
      "X_pca = pca.transform(X)\n",
      "print \"we now have {} samples, {} features\".format(*X_pca.shape)"
     ],
     "language": "python",
     "metadata": {},
     "outputs": []
    },
    {
     "cell_type": "markdown",
     "metadata": {},
     "source": [
      "Now look at what we have in 2 (more or less arbitrary) dimensions."
     ]
    },
    {
     "cell_type": "code",
     "collapsed": false,
     "input": [
      "scatter(X[:, 123], X[:, 456], c=y, s=200)"
     ],
     "language": "python",
     "metadata": {},
     "outputs": []
    },
    {
     "cell_type": "markdown",
     "metadata": {},
     "source": [
      "And after applying PCA"
     ]
    },
    {
     "cell_type": "code",
     "collapsed": false,
     "input": [
      "scatter(X_pca[:, 0], X_pca[:, 1], c=train_labels, s=200)"
     ],
     "language": "python",
     "metadata": {},
     "outputs": []
    },
    {
     "cell_type": "markdown",
     "metadata": {},
     "source": [
      "Create and fit an LDA instance."
     ]
    },
    {
     "cell_type": "code",
     "collapsed": false,
     "input": [
      "lda = LDA()\n",
      "lda.fit(X, y)"
     ],
     "language": "python",
     "metadata": {},
     "outputs": []
    },
    {
     "cell_type": "markdown",
     "metadata": {},
     "source": [
      "Transform the data."
     ]
    },
    {
     "cell_type": "code",
     "collapsed": false,
     "input": [
      "X_lda = lda.transform(X)"
     ],
     "language": "python",
     "metadata": {},
     "outputs": []
    },
    {
     "cell_type": "markdown",
     "metadata": {},
     "source": [
      "And visualize it again."
     ]
    },
    {
     "cell_type": "code",
     "collapsed": false,
     "input": [
      "scatter(X_lda[:, 0], X_lda[:, 1], c=y, s=200)"
     ],
     "language": "python",
     "metadata": {},
     "outputs": []
    },
    {
     "cell_type": "markdown",
     "metadata": {},
     "source": [
      "Load the test data."
     ]
    },
    {
     "cell_type": "code",
     "collapsed": false,
     "input": [
      "Q = loadtxt('data/pie_test_data.txt', delimiter=',')\n",
      "r = loadtxt('data/pie_test_label.txt', dtype=int)"
     ],
     "language": "python",
     "metadata": {},
     "outputs": []
    },
    {
     "cell_type": "markdown",
     "metadata": {},
     "source": [
      "Transform the test data."
     ]
    },
    {
     "cell_type": "code",
     "collapsed": false,
     "input": [
      "Q_lda = lda.transform(Q)"
     ],
     "language": "python",
     "metadata": {},
     "outputs": []
    },
    {
     "cell_type": "markdown",
     "metadata": {},
     "source": [
      "Have a look at it in 2 dimensions."
     ]
    },
    {
     "cell_type": "code",
     "collapsed": false,
     "input": [
      "scatter(Q_lda[:, 0], Q_lda[:, 1], c=r, s=200)"
     ],
     "language": "python",
     "metadata": {},
     "outputs": []
    },
    {
     "cell_type": "markdown",
     "metadata": {},
     "source": [
      "Finally classify the test data."
     ]
    },
    {
     "cell_type": "code",
     "collapsed": false,
     "input": [
      "r_p = lda.predict(Q)"
     ],
     "language": "python",
     "metadata": {},
     "outputs": []
    },
    {
     "cell_type": "markdown",
     "metadata": {},
     "source": [
      "Load the accuracy scoring function."
     ]
    },
    {
     "cell_type": "code",
     "collapsed": false,
     "input": [
      "from sklearn.metrics import accuracy_score"
     ],
     "language": "python",
     "metadata": {},
     "outputs": []
    },
    {
     "cell_type": "markdown",
     "metadata": {},
     "source": [
      "What fraction did we get right?"
     ]
    },
    {
     "cell_type": "code",
     "collapsed": false,
     "input": [
      "accuracy_score(r, r_p)"
     ],
     "language": "python",
     "metadata": {},
     "outputs": []
    }
   ],
   "metadata": {}
  }
 ]
}