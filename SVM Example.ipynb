{
 "metadata": {
  "name": ""
 },
 "nbformat": 3,
 "nbformat_minor": 0,
 "worksheets": [
  {
   "cells": [
    {
     "cell_type": "markdown",
     "metadata": {},
     "source": [
      "We first want to load some data. Assume for now that this comes in the form of a comma separated value (csv) arstarstr  If you have a table of numbers, you might be able to use the ```loadtxt``` function provided by numpy. If that fails (which it will in a bit) you often want to use the builtin ```csv``` python module."
     ]
    },
    {
     "cell_type": "code",
     "collapsed": false,
     "input": [
      "# this works\n",
      "loadtxt('data/pie_train_data.txt', delimiter=',')"
     ],
     "language": "python",
     "metadata": {},
     "outputs": []
    },
    {
     "cell_type": "code",
     "collapsed": false,
     "input": [
      "# this does not\n",
      "loadtxt('data/yeast.data')"
     ],
     "language": "python",
     "metadata": {},
     "outputs": []
    },
    {
     "cell_type": "code",
     "collapsed": false,
     "input": [
      "import csv"
     ],
     "language": "python",
     "metadata": {},
     "outputs": []
    },
    {
     "cell_type": "code",
     "collapsed": false,
     "input": [
      "reader = csv.reader(open('data/yeast.data'))"
     ],
     "language": "python",
     "metadata": {},
     "outputs": []
    },
    {
     "cell_type": "code",
     "collapsed": false,
     "input": [
      "first_row = reader.next()"
     ],
     "language": "python",
     "metadata": {},
     "outputs": []
    },
    {
     "cell_type": "code",
     "collapsed": false,
     "input": [
      "first_row"
     ],
     "language": "python",
     "metadata": {},
     "outputs": []
    },
    {
     "cell_type": "code",
     "collapsed": false,
     "input": [
      "reader = csv.reader(open('data/yeast.data'), delimiter=' ', skipinitialspace=True)"
     ],
     "language": "python",
     "metadata": {},
     "outputs": []
    },
    {
     "cell_type": "code",
     "collapsed": false,
     "input": [
      "first_row = reader.next()\n",
      "first_row"
     ],
     "language": "python",
     "metadata": {},
     "outputs": []
    },
    {
     "cell_type": "code",
     "collapsed": false,
     "input": [
      "reader = csv.reader(open('data/yeast.data'), delimiter=' ', skipinitialspace=True)\n",
      "y_raw = []\n",
      "X_raw = []\n",
      "for row in reader:\n",
      "    name = row[0]\n",
      "    target_class = row[-1]\n",
      "    x = [float(v) for v in row[1:-1]]\n",
      "    X_raw.append(x)\n",
      "    y_raw.append(target_class)"
     ],
     "language": "python",
     "metadata": {},
     "outputs": []
    },
    {
     "cell_type": "markdown",
     "metadata": {},
     "source": [
      "Now $X$ contains all floats, but $y$ is still composed of strings. Luckily Sklearn provides convenience methods to encode this in a way that the algorithms understand. Namely we want a translation of the form ```['Apple', 'Orange', 'Orange'] -> [1, 2, 2]```."
     ]
    },
    {
     "cell_type": "code",
     "collapsed": false,
     "input": [
      "from sklearn.preprocessing import LabelEncoder"
     ],
     "language": "python",
     "metadata": {},
     "outputs": []
    },
    {
     "cell_type": "code",
     "collapsed": false,
     "input": [
      "label_encoder = LabelEncoder()"
     ],
     "language": "python",
     "metadata": {},
     "outputs": []
    },
    {
     "cell_type": "code",
     "collapsed": false,
     "input": [
      "label_encoder.fit(y_raw)"
     ],
     "language": "python",
     "metadata": {},
     "outputs": []
    },
    {
     "cell_type": "code",
     "collapsed": false,
     "input": [
      "y = label_encoder.transform(y_raw)\n",
      "print y, y.shape"
     ],
     "language": "python",
     "metadata": {},
     "outputs": []
    },
    {
     "cell_type": "markdown",
     "metadata": {},
     "source": [
      "Let's also turn our feature matrix into an array."
     ]
    },
    {
     "cell_type": "code",
     "collapsed": false,
     "input": [
      "X = array(X_raw)\n",
      "print X, X.shape"
     ],
     "language": "python",
     "metadata": {},
     "outputs": []
    },
    {
     "cell_type": "markdown",
     "metadata": {},
     "source": [
      "In order for Support Vector Machines (and many other machine learning algorithms) to work well we need to rescale the data to by subtracting the column mean from each column and dividing by the column standard deviation. The data then has zero mean and unit variance in each column. Sklearn also has convenience methods for that."
     ]
    },
    {
     "cell_type": "code",
     "collapsed": false,
     "input": [
      "from sklearn.preprocessing import StandardScaler"
     ],
     "language": "python",
     "metadata": {},
     "outputs": []
    },
    {
     "cell_type": "code",
     "collapsed": false,
     "input": [
      "standard_scaler = StandardScaler()\n",
      "standard_scaler.fit(X)\n",
      "X = standard_scaler.transform(X)"
     ],
     "language": "python",
     "metadata": {},
     "outputs": []
    },
    {
     "cell_type": "markdown",
     "metadata": {},
     "source": [
      "Now let's load the Support Vector Classifier (SVC) class."
     ]
    },
    {
     "cell_type": "code",
     "collapsed": false,
     "input": [
      "from sklearn.svm import SVC"
     ],
     "language": "python",
     "metadata": {},
     "outputs": []
    },
    {
     "cell_type": "code",
     "collapsed": false,
     "input": [
      "svc = SVC()\n",
      "svc"
     ],
     "language": "python",
     "metadata": {},
     "outputs": []
    },
    {
     "cell_type": "markdown",
     "metadata": {},
     "source": [
      "Now we could feed the model with the entire data, and then we could classify the data really well. However this may mislead us into thinking we have a much better classifier than we actually have. So let's do things better and use cross validation. You may also have noticed that SVC has a few parameters that we could set manually if we wanted to."
     ]
    },
    {
     "cell_type": "code",
     "collapsed": false,
     "input": [
      "from sklearn.grid_search import GridSearchCV\n",
      "grid_search_cv = GridSearchCV()"
     ],
     "language": "python",
     "metadata": {},
     "outputs": []
    },
    {
     "cell_type": "code",
     "collapsed": false,
     "input": [
      "GridSearchCV?"
     ],
     "language": "python",
     "metadata": {},
     "outputs": []
    },
    {
     "cell_type": "code",
     "collapsed": false,
     "input": [
      "param_grid = [\n",
      "  {'C': [1, 10, 100, 1000, 10000], 'gamma': [0.1, 0.01, 0.001, 0.0001], 'kernel': ['rbf']},\n",
      " ]"
     ],
     "language": "python",
     "metadata": {},
     "outputs": []
    },
    {
     "cell_type": "code",
     "collapsed": false,
     "input": [
      "grid_search_cv = GridSearchCV(svc, param_grid, verbose=2)\n",
      "grid_search_cv"
     ],
     "language": "python",
     "metadata": {},
     "outputs": []
    },
    {
     "cell_type": "code",
     "collapsed": false,
     "input": [
      "grid_search_cv.fit(X, y)"
     ],
     "language": "python",
     "metadata": {},
     "outputs": []
    },
    {
     "cell_type": "code",
     "collapsed": false,
     "input": [
      "print grid_search_cv.best_params_\n",
      "print grid_search_cv.best_score_\n",
      "print grid_search_cv.best_estimator_"
     ],
     "language": "python",
     "metadata": {},
     "outputs": []
    },
    {
     "cell_type": "code",
     "collapsed": false,
     "input": [
      "best_model = grid_search_cv.best_estimator_\n",
      "best_model"
     ],
     "language": "python",
     "metadata": {},
     "outputs": []
    },
    {
     "cell_type": "markdown",
     "metadata": {},
     "source": [
      "Now we could use ```best_model``` to fit a test set if we wanted to. We can also visualize the grid search."
     ]
    },
    {
     "cell_type": "code",
     "collapsed": false,
     "input": [
      "C, gamma, means = [], [], []\n",
      "for x in grid_search_cv.cv_scores_:\n",
      "    C.append(x.parameters['C'])\n",
      "    gamma.append(x.parameters['gamma'])\n",
      "    means.append(x.mean_validation_score)\n",
      "xscale('log')\n",
      "yscale('log')\n",
      "scatter(C, gamma, c=means, s=1000)\n",
      "xlabel('C')\n",
      "ylabel('$\\gamma$')\n",
      "colorbar()"
     ],
     "language": "python",
     "metadata": {},
     "outputs": []
    },
    {
     "cell_type": "markdown",
     "metadata": {},
     "source": [
      "Some classifiers don't have any parameters. It's still a good idea to use cross validation to get a good idea about the performance of estimators."
     ]
    },
    {
     "cell_type": "code",
     "collapsed": false,
     "input": [
      "from sklearn.lda import LDA"
     ],
     "language": "python",
     "metadata": {},
     "outputs": []
    },
    {
     "cell_type": "code",
     "collapsed": false,
     "input": [
      "lda = LDA()"
     ],
     "language": "python",
     "metadata": {},
     "outputs": []
    },
    {
     "cell_type": "code",
     "collapsed": false,
     "input": [
      "from sklearn.cross_validation import cross_val_score"
     ],
     "language": "python",
     "metadata": {},
     "outputs": []
    },
    {
     "cell_type": "code",
     "collapsed": false,
     "input": [
      "scores = cross_val_score(lda, X, y, cv=5)\n",
      "mean(scores)"
     ],
     "language": "python",
     "metadata": {},
     "outputs": []
    },
    {
     "cell_type": "markdown",
     "metadata": {},
     "source": [
      "In this case we achieve very similar performance with both methods.\n",
      "\n",
      "Let's try one more."
     ]
    },
    {
     "cell_type": "code",
     "collapsed": false,
     "input": [
      "from sklearn.ensemble import RandomForestClassifier"
     ],
     "language": "python",
     "metadata": {},
     "outputs": []
    },
    {
     "cell_type": "code",
     "collapsed": false,
     "input": [
      "rfc = RandomForestClassifier()"
     ],
     "language": "python",
     "metadata": {},
     "outputs": []
    },
    {
     "cell_type": "code",
     "collapsed": false,
     "input": [
      "scores = cross_val_score(rfc, X, y, cv=5)"
     ],
     "language": "python",
     "metadata": {},
     "outputs": []
    },
    {
     "cell_type": "code",
     "collapsed": false,
     "input": [
      "mean(scores)"
     ],
     "language": "python",
     "metadata": {},
     "outputs": []
    }
   ],
   "metadata": {}
  }
 ]
}